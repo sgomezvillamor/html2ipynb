{
 "cells": [
  {
   "cell_type": "code",
   "execution_count": 105,
   "metadata": {},
   "outputs": [],
   "source": [
    "# requires python3\n",
    "\n",
    "def html2ipynb(sourceHtml, targetIpynb):\n",
    "    from bs4 import BeautifulSoup\n",
    "    import json\n",
    "    import urllib.request\n",
    "    \n",
    "    dictionary = {'nbformat': 4, 'nbformat_minor': 1, 'cells': [], 'metadata': {}}\n",
    "    \n",
    "    print(\"html2ipynb\")\n",
    "    print(\"Source (html)  : '%s'\" % sourceHtml)\n",
    "    print(\"Target (ipynb) : '%s'\" % targetIpynb)\n",
    "\n",
    "    response = open(sourceHtml, encoding='utf-8')\n",
    "    text = response.read()\n",
    "\n",
    "    soup = BeautifulSoup(text, 'lxml')\n",
    "    \n",
    "    for d in soup.findAll(\"div\"):\n",
    "        if 'class' in d.attrs.keys():\n",
    "            for clas in d.attrs[\"class\"]:\n",
    "                if clas in [\"text_cell_render\", \"input_area\"]:\n",
    "                    # code cell\n",
    "                    if clas == \"input_area\":\n",
    "                        cell = {}\n",
    "                        cell['metadata'] = {}\n",
    "                        cell['outputs'] = []\n",
    "                        # this removes all empty lines\n",
    "                        # new_source = \"\\n\".join([s for s in d.get_text().splitlines() if s.strip()])\n",
    "                        new_source = d.get_text().splitlines()\n",
    "                        # remove first line if empty\n",
    "                        if not new_source[0].strip():\n",
    "                            new_source = new_source[1:]\n",
    "                        # remove last lines if empty\n",
    "                        if not new_source[-1].strip():\n",
    "                            new_source = new_source[0:-1] \n",
    "                        cell['source'] = \"\\n\".join(new_source)\n",
    "                        cell['execution_count'] = None\n",
    "                        cell['cell_type'] = 'code'\n",
    "                        dictionary['cells'].append(cell)\n",
    "\n",
    "                    else:\n",
    "                        cell = {}\n",
    "                        cell['metadata'] = {}\n",
    "\n",
    "                        cell['source'] = [d.decode_contents()]\n",
    "                        cell['cell_type'] = 'markdown'\n",
    "                        dictionary['cells'].append(cell)\n",
    "                        \n",
    "    open(targetIpynb, 'w').write(json.dumps(dictionary))\n",
    "    response.close()\n",
    "    print(\"'%s' successfully written\" % targetIpynb)"
   ]
  },
  {
   "cell_type": "code",
   "execution_count": 106,
   "metadata": {},
   "outputs": [
    {
     "name": "stdout",
     "output_type": "stream",
     "text": [
      " Volume in drive C is OS\n",
      " Volume Serial Number is BC20-BD08\n",
      "\n",
      " Directory of C:\\Users\\sogz\\Datahack\\__Referencias\\02 python\\Teoría\n",
      "\n",
      "11/11/2017  08:41    <DIR>          .\n",
      "11/11/2017  08:41    <DIR>          ..\n",
      "12/10/2016  12:20           636.384 Base.html\n",
      "24/09/2017  23:06         9.983.880 Diapos ML Datahack.pdf\n",
      "04/11/2017  22:46           638.845 Ejemplo completo de clasificacion - Iris Dataset.html\n",
      "12/10/2016  12:20           650.645 Numpy.html\n",
      "12/10/2016  12:20           497.618 Pandas.html\n",
      "12/10/2016  12:23         7.578.386 Scikit-Learn.html\n",
      "12/10/2016  12:21           662.284 Visualizacion 2.html\n",
      "12/10/2016  12:21         2.022.549 Visualizacion.html\n",
      "               8 File(s)     22.670.591 bytes\n",
      "               2 Dir(s)  100.426.313.728 bytes free\n"
     ]
    }
   ],
   "source": [
    "%ls \"__Referencias\\02 python\\Teoría\""
   ]
  },
  {
   "cell_type": "code",
   "execution_count": 107,
   "metadata": {},
   "outputs": [
    {
     "name": "stdout",
     "output_type": "stream",
     "text": [
      " Volume in drive C is OS\n",
      " Volume Serial Number is BC20-BD08\n",
      "\n",
      " Directory of C:\\Users\\sogz\\Datahack\\ML con Python\n",
      "\n",
      "21/01/2018  09:35    <DIR>          .\n",
      "21/01/2018  09:35    <DIR>          ..\n",
      "21/01/2018  09:25    <DIR>          .ipynb_checkpoints\n",
      "               0 File(s)              0 bytes\n",
      "               3 Dir(s)  100.426.317.824 bytes free\n"
     ]
    }
   ],
   "source": [
    "%ls \"ML con Python\""
   ]
  },
  {
   "cell_type": "code",
   "execution_count": 108,
   "metadata": {},
   "outputs": [
    {
     "name": "stdout",
     "output_type": "stream",
     "text": [
      "html2ipynb\n",
      "Source (html)  : '__Referencias\\02 python\\Teoría\\Base.html'\n",
      "Target (ipynb) : 'ML con Python\\Base.ipynb'\n",
      "'ML con Python\\Base.ipynb' successfully written\n",
      "html2ipynb\n",
      "Source (html)  : '__Referencias\\02 python\\Teoría\\Ejemplo completo de clasificacion - Iris Dataset.html'\n",
      "Target (ipynb) : 'ML con Python\\Ejemplo completo de clasificacion - Iris Dataset.ipynb'\n",
      "'ML con Python\\Ejemplo completo de clasificacion - Iris Dataset.ipynb' successfully written\n",
      "html2ipynb\n",
      "Source (html)  : '__Referencias\\02 python\\Teoría\\Numpy.html'\n",
      "Target (ipynb) : 'ML con Python\\Numpy.ipynb'\n",
      "'ML con Python\\Numpy.ipynb' successfully written\n",
      "html2ipynb\n",
      "Source (html)  : '__Referencias\\02 python\\Teoría\\Pandas.html'\n",
      "Target (ipynb) : 'ML con Python\\Pandas.ipynb'\n",
      "'ML con Python\\Pandas.ipynb' successfully written\n",
      "html2ipynb\n",
      "Source (html)  : '__Referencias\\02 python\\Teoría\\Scikit-Learn.html'\n",
      "Target (ipynb) : 'ML con Python\\Scikit-Learn.ipynb'\n",
      "'ML con Python\\Scikit-Learn.ipynb' successfully written\n",
      "html2ipynb\n",
      "Source (html)  : '__Referencias\\02 python\\Teoría\\Visualizacion 2.html'\n",
      "Target (ipynb) : 'ML con Python\\Visualizacion 2.ipynb'\n",
      "'ML con Python\\Visualizacion 2.ipynb' successfully written\n",
      "html2ipynb\n",
      "Source (html)  : '__Referencias\\02 python\\Teoría\\Visualizacion.html'\n",
      "Target (ipynb) : 'ML con Python\\Visualizacion.ipynb'\n",
      "'ML con Python\\Visualizacion.ipynb' successfully written\n"
     ]
    }
   ],
   "source": [
    "import os\n",
    "\n",
    "sourceDir = os.path.join(\"__Referencias\", \"02 python\", \"Teoría\")\n",
    "targetDir = os.path.join(\"ML con Python\")\n",
    "\n",
    "for f in os.listdir(sourceDir):\n",
    "    if f.endswith(\".html\"):\n",
    "        fname = f[0:-5]\n",
    "        sourceHtml = os.path.join(sourceDir, f)\n",
    "        targetIpynb = os.path.join(targetDir, fname + \".ipynb\")\n",
    "        html2ipynb(sourceHtml, targetIpynb)\n"
   ]
  },
  {
   "cell_type": "code",
   "execution_count": null,
   "metadata": {},
   "outputs": [],
   "source": []
  }
 ],
 "metadata": {
  "kernelspec": {
   "display_name": "Python 3",
   "language": "python",
   "name": "python3"
  },
  "language_info": {
   "codemirror_mode": {
    "name": "ipython",
    "version": 3
   },
   "file_extension": ".py",
   "mimetype": "text/x-python",
   "name": "python",
   "nbconvert_exporter": "python",
   "pygments_lexer": "ipython3",
   "version": "3.6.4"
  }
 },
 "nbformat": 4,
 "nbformat_minor": 2
}
